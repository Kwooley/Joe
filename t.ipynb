{
 "cells": [
  {
   "cell_type": "code",
   "execution_count": 8,
   "metadata": {},
   "outputs": [
    {
     "name": "stdout",
     "output_type": "stream",
     "text": [
      "['NCT02012699', 'NCT03623945', 'NCT04538664', 'NCT04988295']\n",
      "Prep Cal NCT02012699\n",
      "prep_output NCT02012699\n",
      "returned text with id:\tNCT02012699\t\n",
      "\n",
      "Prep Cal NCT03623945\n",
      "prep_output NCT03623945\n",
      "returned text with id:\tNCT02012699\t\n",
      "returned text with id:\tNCT03623945\t\n",
      "\n",
      "Prep Cal NCT04538664\n",
      "prep_output NCT04538664\n",
      "returned text with id:\tNCT02012699\t\n",
      "returned text with id:\tNCT03623945\t\n",
      "returned text with id:\tNCT04538664\t\n",
      "\n",
      "Prep Cal NCT04988295\n",
      "prep_output NCT04988295\n",
      "returned text with id:\tNCT02012699\t\n",
      "returned text with id:\tNCT03623945\t\n",
      "returned text with id:\tNCT04538664\t\n",
      "returned text with id:\tNCT04988295\t\n",
      "\n"
     ]
    }
   ],
   "source": [
    "import os\n",
    "import requests\n",
    "import codecs\n",
    "from data_file import NCT_LIST\n",
    "\n",
    "def prep_output(nctnmbr, callback_fnct):\n",
    "\tprint (\"prep_output\", nctnmbr)\n",
    "\treturn callback_fnct(nctnmbr)\n",
    "\n",
    "    \n",
    "def get_clinical_trial_data(nctid):\n",
    "\treturn \"returned text with id:\\t\" + str(nctid) + \"\\t\"\n",
    "\n",
    "print (NCT_LIST)\n",
    "OUTFILE = input('Output-File name (scrapperout.txt): ') or 'scrapperout.txt'\n",
    "OUT = ''\n",
    "\n",
    "\n",
    "for nct in NCT_LIST:\n",
    "\tprint (\"Prep Cal\", nct)\n",
    "\tOUT += prep_output(nct, get_clinical_trial_data) + '\\n'\n",
    "\tprint(OUT)\n",
    "\n",
    "with codecs.open(OUTFILE, \"w\", \"utf-8\") as f:\n",
    "\tf.write(OUT)\n",
    "# os.system(OUTFILE)\n",
    "\n",
    "\n",
    "\n",
    "\n"
   ]
  },
  {
   "cell_type": "code",
   "execution_count": 14,
   "metadata": {},
   "outputs": [
    {
     "name": "stdout",
     "output_type": "stream",
     "text": [
      "['NCT02012699\\n', 'NCT03623945\\n', 'NCT04538664\\n', 'NCT04988295']\n"
     ]
    }
   ],
   "source": [
    "import os\n",
    "import requests\n",
    "import codecs\n",
    "# from data_file import NCT_LIST\n",
    "\n",
    "def prep_output(nctnmbr, callback_fnct):\n",
    "\tprint (\"prep_output\", nctnmbr)\n",
    "\treturn callback_fnct(nctnmbr)\n",
    "\n",
    "    \n",
    "def get_clinical_trial_data(nctid):\n",
    "\treturn \"returned text with id:\\t\" + str(nctid) + \"\\t\"\n",
    "\n",
    "\n",
    "INFILE = input('Input-File name (data_file.txt): ') or 'data_file.txt'\n",
    "OUTFILE = input('Output-File name (scrapperout.txt): ') or 'scrapperout.txt'\n",
    "NCT_LIST = []\n",
    "with open(INFILE, 'r') as f:\n",
    "\t# NCT_LIST = f.readlines()\n",
    "\tfor each in f:\n",
    "\t\tNCT_LIST.append(each.rstrip('\\n'))\n",
    "print(NCT_LIST)\n",
    "OUTFILE = input('Output-File name (scrapperout.txt): ') or 'scrapperout.txt'\n",
    "OUT = ''\n",
    "\n",
    "\n",
    "for nct in NCT_LIST:\n",
    "\tprint (\"Prep Cal\", nct)\n",
    "\tOUT += prep_output(nct, get_clinical_trial_data) + '\\n'\n",
    "\tprint(OUT)\n",
    "\n",
    "with codecs.open(OUTFILE, \"w\", \"utf-8\") as f:\n",
    "\tf.write(OUT)\n",
    "# os.system(OUTFILE)\n",
    "\n",
    "\n",
    "\n",
    "\n"
   ]
  }
 ],
 "metadata": {
  "interpreter": {
   "hash": "a614fddea9d37e019a720cc724ab725ff28be4e0e64e91a691a8738e1909110d"
  },
  "kernelspec": {
   "display_name": "Python 3.9.7 ('base')",
   "language": "python",
   "name": "python3"
  },
  "language_info": {
   "codemirror_mode": {
    "name": "ipython",
    "version": 3
   },
   "file_extension": ".py",
   "mimetype": "text/x-python",
   "name": "python",
   "nbconvert_exporter": "python",
   "pygments_lexer": "ipython3",
   "version": "3.9.7"
  },
  "orig_nbformat": 4
 },
 "nbformat": 4,
 "nbformat_minor": 2
}
